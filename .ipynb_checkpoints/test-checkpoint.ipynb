{
 "cells": [
  {
   "cell_type": "code",
   "execution_count": null,
   "id": "356aa382-ef98-4ebe-87ec-8ab4ed7c7ee6",
   "metadata": {},
   "outputs": [],
   "source": [
    "test notebook"
   ]
  }
 ],
 "metadata": {
  "kernelspec": {
   "display_name": "Python 3 (ipykernel)",
   "language": "python",
   "name": "python3"
  },
  "language_info": {
   "codemirror_mode": {
    "name": "ipython",
    "version": 3
   },
   "file_extension": ".py",
   "mimetype": "text/x-python",
   "name": "python",
   "nbconvert_exporter": "python",
   "pygments_lexer": "ipython3",
   "version": "3.11.10"
  }
 },
 "nbformat": 4,
 "nbformat_minor": 5
}
